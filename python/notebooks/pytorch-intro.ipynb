{
 "cells": [
  {
   "cell_type": "code",
   "execution_count": 2,
   "metadata": {},
   "outputs": [],
   "source": [
    "#from __future__ import print_function\n",
    "import torch"
   ]
  },
  {
   "cell_type": "code",
   "execution_count": 3,
   "metadata": {},
   "outputs": [
    {
     "name": "stdout",
     "output_type": "stream",
     "text": [
      "tensor([[0.7272, 0.0932, 0.0554],\n",
      "        [0.5651, 0.2859, 0.2170],\n",
      "        [0.5817, 0.2431, 0.3563],\n",
      "        [0.9297, 0.5450, 0.1371],\n",
      "        [0.5454, 0.4128, 0.0164]])\n",
      "torch.Size([5, 3])\n"
     ]
    }
   ],
   "source": [
    "# NOTE: tensors are similar to numpy ndarrays\n",
    "x = torch.empty(5, 3)\n",
    "#print(x)\n",
    "x = torch.rand(5, 3)\n",
    "#print(x)\n",
    "#x = torch.zeros(5, 3, dtype=torch.long)\n",
    "#print(x)\n",
    "#x = torch.tensor([5.5, 3])\n",
    "print(x)\n",
    "print(x.size())"
   ]
  },
  {
   "cell_type": "code",
   "execution_count": 4,
   "metadata": {},
   "outputs": [
    {
     "name": "stdout",
     "output_type": "stream",
     "text": [
      "tensor([[1.1713, 0.1116, 0.5228],\n",
      "        [1.0802, 0.4828, 1.1284],\n",
      "        [1.5618, 1.2030, 0.9624],\n",
      "        [1.0838, 0.9655, 0.4672],\n",
      "        [1.3750, 1.1955, 0.7869]])\n"
     ]
    }
   ],
   "source": [
    "# addition\n",
    "y = torch.rand(5, 3)\n",
    "#print(x + y)\n",
    "print(torch.add(x, y))"
   ]
  },
  {
   "cell_type": "code",
   "execution_count": 5,
   "metadata": {},
   "outputs": [
    {
     "name": "stdout",
     "output_type": "stream",
     "text": [
      "tensor([[1.1713, 0.1116, 0.5228],\n",
      "        [1.0802, 0.4828, 1.1284],\n",
      "        [1.5618, 1.2030, 0.9624],\n",
      "        [1.0838, 0.9655, 0.4672],\n",
      "        [1.3750, 1.1955, 0.7869]])\n"
     ]
    }
   ],
   "source": [
    "# output as tensor\n",
    "result = torch.empty(5, 3)\n",
    "torch.add(x, y, out=result)\n",
    "print(result)"
   ]
  },
  {
   "cell_type": "code",
   "execution_count": 6,
   "metadata": {},
   "outputs": [
    {
     "name": "stdout",
     "output_type": "stream",
     "text": [
      "tensor([[1.1713, 0.1116, 0.5228],\n",
      "        [1.0802, 0.4828, 1.1284],\n",
      "        [1.5618, 1.2030, 0.9624],\n",
      "        [1.0838, 0.9655, 0.4672],\n",
      "        [1.3750, 1.1955, 0.7869]])\n"
     ]
    }
   ],
   "source": [
    "# addition in-place\n",
    "y.add_(x)\n",
    "print(y)"
   ]
  },
  {
   "cell_type": "code",
   "execution_count": 7,
   "metadata": {},
   "outputs": [
    {
     "name": "stdout",
     "output_type": "stream",
     "text": [
      "tensor([0.0932, 0.2859, 0.2431, 0.5450, 0.4128])\n"
     ]
    }
   ],
   "source": [
    "# indexing\n",
    "# NOTE: same as numpy\n",
    "print(x[:, 1])"
   ]
  },
  {
   "cell_type": "code",
   "execution_count": 9,
   "metadata": {},
   "outputs": [
    {
     "name": "stdout",
     "output_type": "stream",
     "text": [
      "True\n",
      "tensor([[1.7272, 1.0932, 1.0554],\n",
      "        [1.5651, 1.2859, 1.2170],\n",
      "        [1.5817, 1.2431, 1.3563],\n",
      "        [1.9297, 1.5450, 1.1371],\n",
      "        [1.5454, 1.4128, 1.0164]], device='cuda:0')\n",
      "tensor([[1.7272, 1.0932, 1.0554],\n",
      "        [1.5651, 1.2859, 1.2170],\n",
      "        [1.5817, 1.2431, 1.3563],\n",
      "        [1.9297, 1.5450, 1.1371],\n",
      "        [1.5454, 1.4128, 1.0164]], dtype=torch.float64)\n"
     ]
    }
   ],
   "source": [
    "# CUDA\n",
    "# NOTE: test this on nvidia card\n",
    "# OK: working!\n",
    "print(torch.cuda.is_available())\n",
    "if torch.cuda.is_available():\n",
    "    device = torch.device(\"cuda\")\n",
    "    # create tensor on gpu\n",
    "    y = torch.ones_like(x, device=device)\n",
    "    # or\n",
    "    x = x.to(device)\n",
    "    \n",
    "    z = x + y\n",
    "    \n",
    "    print(z)\n",
    "    print(z.to(\"cpu\", torch.double))"
   ]
  },
  {
   "cell_type": "code",
   "execution_count": null,
   "metadata": {},
   "outputs": [],
   "source": []
  }
 ],
 "metadata": {
  "kernelspec": {
   "display_name": "Python 3",
   "language": "python",
   "name": "python3"
  },
  "language_info": {
   "codemirror_mode": {
    "name": "ipython",
    "version": 3
   },
   "file_extension": ".py",
   "mimetype": "text/x-python",
   "name": "python",
   "nbconvert_exporter": "python",
   "pygments_lexer": "ipython3",
   "version": "3.8.3"
  }
 },
 "nbformat": 4,
 "nbformat_minor": 2
}
