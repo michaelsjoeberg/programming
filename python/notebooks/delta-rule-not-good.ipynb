{
 "cells": [
  {
   "cell_type": "code",
   "execution_count": 435,
   "metadata": {},
   "outputs": [],
   "source": [
    "# https://en.wikipedia.org/wiki/Delta_rule\n",
    "import numpy as np\n",
    "from tqdm import tqdm\n",
    "#from prettytable import PrettyTable"
   ]
  },
  {
   "cell_type": "code",
   "execution_count": 436,
   "metadata": {},
   "outputs": [],
   "source": [
    "from sklearn import datasets\n",
    "iris = datasets.load_iris()"
   ]
  },
  {
   "cell_type": "code",
   "execution_count": 437,
   "metadata": {},
   "outputs": [],
   "source": [
    "# config\n",
    "weight = [1, 1, 1, 1]\n",
    "learning_rate = 0.01\n",
    "iterations = 200 * len(iris.data)\n",
    "split = int(len(iris.data) / 5)"
   ]
  },
  {
   "cell_type": "code",
   "execution_count": 438,
   "metadata": {},
   "outputs": [],
   "source": [
    "# dataset\n",
    "dataset_full = []\n",
    "for i in range(len(iris.target)):\n",
    "    # add target to iris data\n",
    "    dataset_full.append([iris.target[i], iris.data[i][0], iris.data[i][1], iris.data[i][2], iris.data[i][3]])\n",
    "\n",
    "# shuffle\n",
    "np.random.shuffle(dataset_full)\n",
    "#dataset_full[:10]"
   ]
  },
  {
   "cell_type": "code",
   "execution_count": 439,
   "metadata": {},
   "outputs": [],
   "source": [
    "# training set\n",
    "X = []\n",
    "for i in range(len(dataset_full[:-split])): X.append(dataset_full[i][1:])\n",
    "X_t = []\n",
    "for i in range(len(dataset_full[:-split])): X_t.append(dataset_full[i][0])\n",
    "    \n",
    "assert(len(X) == len(X_t))"
   ]
  },
  {
   "cell_type": "code",
   "execution_count": 440,
   "metadata": {},
   "outputs": [],
   "source": [
    "# test set\n",
    "Y = []\n",
    "for i in range(len(dataset_full[-split:])): Y.append(dataset_full[i][1:])\n",
    "Y_t = []\n",
    "for i in range(len(dataset_full[-split:])): Y_t.append(dataset_full[i][0])\n",
    "    \n",
    "assert(len(Y) == len(Y_t))"
   ]
  },
  {
   "cell_type": "code",
   "execution_count": 441,
   "metadata": {},
   "outputs": [],
   "source": [
    "# transfer function\n",
    "# https://en.wikipedia.org/wiki/Heaviside_step_function\n",
    "#def transfer_function(w, x, max_class=1, half_maximum=True):\n",
    "#    wx = np.dot(w, x)\n",
    "#    if (wx > 0):\n",
    "#        return 1 * max_class\n",
    "#    elif (wx == 0):\n",
    "#        return 0.5 * max_class\n",
    "#    else:\n",
    "#        return 0\n",
    "    \n",
    "#assert (transfer_function([0.1, -0.5, 0.4], [0.1, -0.5, 0.4]) == 1)\n",
    "#assert (transfer_function([0.1, -0.5, 0.4], [0.1, 0.5, 0.4]) == 0)\n",
    "#assert (transfer_function([0, 0, 0], [0, 0, 0]) == 0.5)\n",
    "\n",
    "def transfer_function(w, x, max_class=2):\n",
    "    wx = np.dot(w, x)\n",
    "    if (wx > 1):\n",
    "        return 1 * max_class\n",
    "    elif (wx == 0.5):\n",
    "        return 0.5 * max_class\n",
    "    else:\n",
    "        return 0"
   ]
  },
  {
   "cell_type": "code",
   "execution_count": 442,
   "metadata": {},
   "outputs": [
    {
     "name": "stderr",
     "output_type": "stream",
     "text": [
      "100%|██████████| 250/250 [00:02<00:00, 85.48it/s] \n"
     ]
    }
   ],
   "source": [
    "# sequential delta learning algorithm\n",
    "model = []\n",
    "for o in tqdm(range(int(iterations / len(X)))):\n",
    "    for i in range(len(X)):\n",
    "        # break at max iterations\n",
    "        if ((i + 1 + (len(X) * o)) > iterations): break\n",
    "\n",
    "        weight_before = weight\n",
    "        x = X[i]\n",
    "        y = transfer_function(weight, x)\n",
    "\n",
    "        # calculate update part\n",
    "        update = np.zeros(len(x))\n",
    "        for j in range(len(x)):\n",
    "            update[j] = learning_rate * (X_t[i] - y) * x[j]\n",
    "        \n",
    "        # add update part to weight\n",
    "        weight = np.add(weight, update)\n",
    "        # append result\n",
    "        model.append((\n",
    "            # iteration\n",
    "            str(i + 1 + (len(X) * o)),\n",
    "            # weight before update\n",
    "            np.round(weight_before, 4),\n",
    "            # sample\n",
    "            np.round(x, 4),\n",
    "            # prediction\n",
    "            int(np.round(y, 0)),\n",
    "            # target\n",
    "            np.round(X_t[i], 0),\n",
    "            # new weight\n",
    "            np.round(weight, 4)))"
   ]
  },
  {
   "cell_type": "code",
   "execution_count": 443,
   "metadata": {},
   "outputs": [
    {
     "name": "stdout",
     "output_type": "stream",
     "text": [
      "iterations:  30000\n",
      "weight before:  [-0.08, -0.32, 0.329, 0.966]\n",
      "sample:  [5.0, 2.0, 3.5, 1.0]\n",
      "prediction (H(wx)):  2\n",
      "target:  1\n",
      "weight:  [-0.13, -0.34, 0.294, 0.956]\n"
     ]
    }
   ],
   "source": [
    "print('iterations: ', model[-1][0])\n",
    "print('weight before: ', list(model[-1][1]))\n",
    "print('sample: ', list(model[-1][2]))\n",
    "print('prediction (H(wx)): ', model[-1][3])\n",
    "print('target: ', model[-1][4])\n",
    "print('weight: ', list(model[-1][5]))\n",
    "#print('training done? ', np.array_equal(model[-1][1], model[-1][5]))"
   ]
  },
  {
   "cell_type": "code",
   "execution_count": 444,
   "metadata": {},
   "outputs": [
    {
     "name": "stdout",
     "output_type": "stream",
     "text": [
      "[-0.08, -0.32, 0.329, 0.966]\n",
      "Accuracy: 0.7333333333333333\n"
     ]
    }
   ],
   "source": [
    "weight_final = list(model[-1][1])\n",
    "print(weight_final)\n",
    "result = []\n",
    "for i in range(len(Y)):\n",
    "    x = Y[i]\n",
    "    c = transfer_function(weight_final, x)\n",
    "    # append to result\n",
    "    result.append(c == Y_t[i])\n",
    "    \n",
    "print('Accuracy: ' + str(result.count(True) / len(result)))"
   ]
  },
  {
   "cell_type": "code",
   "execution_count": null,
   "metadata": {},
   "outputs": [],
   "source": []
  }
 ],
 "metadata": {
  "kernelspec": {
   "display_name": "Python 3",
   "language": "python",
   "name": "python3"
  },
  "language_info": {
   "codemirror_mode": {
    "name": "ipython",
    "version": 3
   },
   "file_extension": ".py",
   "mimetype": "text/x-python",
   "name": "python",
   "nbconvert_exporter": "python",
   "pygments_lexer": "ipython3",
   "version": "3.7.4"
  }
 },
 "nbformat": 4,
 "nbformat_minor": 2
}
